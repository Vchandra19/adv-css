{
  "nbformat": 4,
  "nbformat_minor": 0,
  "metadata": {
    "colab": {
      "provenance": []
    },
    "kernelspec": {
      "name": "python3",
      "display_name": "Python 3"
    },
    "language_info": {
      "name": "python"
    }
  },
  "cells": [
    {
      "cell_type": "code",
      "execution_count": null,
      "metadata": {
        "id": "kcwUZVTUAAzu"
      },
      "outputs": [],
      "source": []
    },
    {
      "cell_type": "markdown",
      "source": [
        "Q1. For the given index.html file. Perform the following task, without changing the index.html file.\n",
        "index.html (The HTML file)\n",
        "A. Create a CSS file to apply styles to the HTML element, and link it\n",
        "B. Using the combinator selector, perform the following task `\n",
        "_ Use any of the CSS combinator selectors to target all the anchor tags and change the text color to re[\n",
        "_ Target only the first <h2> tag and change the text and background color using the combinator selectol\n",
        "_ Also, select the first <p> tag and change the text color to red.\n",
        "C. Using the attribute selector, perform the following tas\n",
        "_ target the anchor tag with attribute \"href\" and change color to red and remove the text underline¢\n",
        "_ Target the anchor tag with the attribute of class name “active”, change the text color, and provide the text\n",
        "style properties with underlining\n",
        "_ Target the anchor tag with the attribute of the target whose value is “_self” and change the background\n",
        "color.\n",
        "D. Using the Pseudo selectors, perform the following tas\n",
        "_ Target the last <p> tag and add “...” i.e. three dots after its valuÆ\n",
        "_ Target the list of bullet points and change the color of the bullet points without changing the list item's value\n",
        "_ Among the three <p> tags target the 2nd <p> tag, select the first letter of the second <p> tag, and change the\n",
        "color to red Also increase the font size to 30px"
      ],
      "metadata": {
        "id": "5_wtxHoRAEcA"
      }
    },
    {
      "cell_type": "markdown",
      "source": [
        "ANS:Here are the CSS rules you would add to your stylesheet (e.g., style.css) and link to your index.html file.\n",
        "First, ensure your index.html file has a link to your CSS file in the <head> section, like this (assuming your CSS file is named style.css and is in the same directory):\n"
      ],
      "metadata": {
        "id": "XSB3suxIAHEo"
      }
    },
    {
      "cell_type": "code",
      "source": [
        "<!DOCTYPE html>\n",
        "<html lang=\"en\">\n",
        "<head>\n",
        "    <meta charset=\"UTF-8\">\n",
        "    <meta name=\"viewport\" content=\"width=device-width, initial-scale=1.0\">\n",
        "    <title>Test</title>\n",
        "    <link rel=\"stylesheet\" href=\"style.css\"> </head>\n",
        "<body>\n",
        "    </body>\n",
        "</html>\n"
      ],
      "metadata": {
        "id": "UyRkHPEsAVWJ"
      },
      "execution_count": null,
      "outputs": []
    },
    {
      "cell_type": "markdown",
      "source": [
        "Now, let's address each task:\n",
        "A. Create a CSS file to apply styles to the HTML element, and link it\n",
        "(Already addressed above by adding link rel=\"stylesheet\" href=\"style.css\" to the HTML and preparing to write CSS in style.css).\n",
        "B. Using the combinator selector, perform the following task -\n",
        " * Use any of the CSS combinator selectors to target all the anchor tags and change the text color to red\n",
        "   /* B.1: Target all anchor tags and change text color to red */\n",
        "/* This uses the descendant combinator (space) to target all <a> tags within any element. */\n",
        "* a {\n",
        "    color: red;\n",
        "}\n",
        "\n",
        "/* Alternatively, if you want to be more specific, e.g., only within <body> */\n",
        "/* body a {\n",
        "    color: red;\n",
        "} */\n",
        "\n",
        " * Target only the first <h2> tag and change the text and background color using the combinator selector\n",
        "   This specific task is tricky with only combinator selectors if the h2 is the first of its type and not necessarily the child/descendant of a specific parent where its position matters uniquely. However, given the HTML, <h2>TOI</h2> is the first h2 inside the header and also the first h2 in the body. You can combine body with h2 as a descendant, then use :first-of-type or :nth-of-type(1).\n",
        "   /* B.2: Target only the first <h2> tag and change text/background color */\n",
        "header h2:first-of-type {\n",
        "    color: blue; /* Example text color */\n",
        "    background-color: yellow; /* Example background color */\n",
        "}\n",
        "\n",
        "/* Or, if you want to be super general and just hit the first h2 in the document: */\n",
        "/* body h2:first-of-type {\n",
        "    color: blue;\n",
        "    background-color: yellow;\n",
        "} */\n",
        "\n",
        " * Also, select the first <p> tag and change the text color to red.\n",
        "   /* B.3: Select the first <p> tag and change its text color to red */\n",
        "body p:first-of-type {\n",
        "    color: red;\n",
        "}\n",
        "\n",
        "C. Using the attribute selector, perform the following task -\n",
        " * Target the anchor tag with attribute href and change color to red and remove the text underline\n",
        "   /* C.1: Target anchor tags with 'href' attribute */\n",
        "a[href] {\n",
        "    color: red;\n",
        "    text-decoration: none; /* Removes underline */\n",
        "}\n",
        "\n",
        " * Target the anchor tag with the attribute of class name \"active\", change the text color, and provide the text style properties with underlining.\n",
        "   /* C.2: Target anchor tags with class \"active\" */\n",
        "a[class=\"active\"] { /* Or simply a.active {} */\n",
        "    color: green; /* Example text color */\n",
        "    text-decoration: underline;\n",
        "}\n",
        "\n",
        " * Target the anchor tag with the attribute of the target whose value is \"_self\" and change the background color.\n",
        "   /* C.3: Target anchor tags with target=\"_self\" */\n",
        "a[target=\"_self\"] {\n",
        "    background-color: lightblue; /* Example background color */\n",
        "}\n",
        "\n",
        "D. Using the Pseudo selectors, perform the following task\n",
        " * Target the last <p> tag and add \"...\" i.e. three dots after its value\n",
        "   This requires generating content using ::after.\n",
        "   /* D.1: Target the last <p> tag and add \"...\" after its content */\n",
        "p:last-of-type::after {\n",
        "    content: \"...\";\n",
        "}\n",
        "\n",
        " * Target the list of bullet points and change the color of the bullet points without changing the list item's value.\n",
        "   This targets the list item marker (bullet point) itself.\n",
        "   /* D.2: Target bullet points (list item markers) */\n",
        "li::marker {\n",
        "    color: purple; /* Example color for the bullet points */\n",
        "}\n",
        "\n",
        " * Among the three <p> tags target the 2nd <p> tag, select the first letter of the second <p> tag, and change the color to red Also increase the font size to 30px\n",
        "   This involves combining :nth-of-type for the second paragraph and ::first-letter for its first letter.\n",
        "   /* D.3: Target the first letter of the second <p> tag */\n",
        "p:nth-of-type(2)::first-letter {\n",
        "    color: red;\n",
        "    font-size: 30px;\n",
        "}"
      ],
      "metadata": {
        "id": "6LNC4ejbAYXY"
      }
    },
    {
      "cell_type": "markdown",
      "source": [
        "2.Q2.  Create a CSS file and link it to the provided HTML file below, use any of the combinator class selectors to\n",
        "style the navigation menu as follows -\n",
        "index.html (The HTML file)\n",
        "` Use the Descendant combinator selector to remove list style type bullet points and text underlining of the\n",
        "Menu list itemse\n",
        "` Use the child combinator to display the menu list item inlin^\n",
        "` Use the Adjacent sibling combinator selector to apply some margin between the menu list items.?"
      ],
      "metadata": {
        "id": "l22tZBPTBFHB"
      }
    },
    {
      "cell_type": "code",
      "source": [
        "/* Q2: Styles for the navigation menu */\n",
        "\n",
        "/* Use the Descendant combinator selector to remove list style type bullet points\n",
        "   and text underlining of the Menu list items. */\n",
        "ul li {\n",
        "    list-style-type: none; /* Removes bullet points from list items */\n",
        "}\n",
        "\n",
        "ul li a {\n",
        "    text-decoration: none; /* Removes underline from links */\n",
        "    color: inherit; /* Inherit color to avoid default blue link color */\n",
        "}\n",
        "\n",
        "/* Use the child combinator to display the menu list item inline */\n",
        "ul > li {\n",
        "    display: inline-block; /* Display list items inline */\n",
        "    /* Using inline-block gives control over width/height and vertical alignment if needed */\n",
        "}\n",
        "\n",
        "/* Use the Adjacent sibling combinator selector to apply some margin between the menu list items. */\n",
        "li + li {\n",
        "    margin-left: 20px; /* Adds 20px margin to the left of every li that is immediately preceded by another li */\n",
        "}"
      ],
      "metadata": {
        "id": "ak7eE3aQBMPp"
      },
      "execution_count": null,
      "outputs": []
    },
    {
      "cell_type": "markdown",
      "source": [
        "3.Q3. Using any of the Pseudo element selectors, add any random words after and before the given HTML tag"
      ],
      "metadata": {
        "id": "w-kIUwShBZL5"
      }
    },
    {
      "cell_type": "code",
      "source": [
        "To add random words before and after the <h1> tag using pseudo-element selectors, you would use ::before and ::after.\n",
        "Here's how you can do it in CSS:\n",
        "h1::before {\n",
        "    content: \"Random text \"; /* Adds \"Random text \" before the h1 content */\n",
        "    color: blue; /* Optional: style the added text */\n",
        "    font-weight: normal;\n",
        "}\n",
        "\n",
        "h1::after {\n",
        "    content: \" more text\"; /* Adds \" more text\" after the h1 content */\n",
        "    color: green; /* Optional: style the added text */\n",
        "    font-style: italic;\n",
        "}\n",
        "\n",
        "Explanation:\n",
        " * h1::before: This pseudo-element targets the space immediately before the content of the <h1> element.\n",
        " * h1::after: This pseudo-element targets the space immediately after the content of the <h1> element.\n",
        " * content: \"...\": The content property is mandatory for ::before and ::after pseudo-elements. It specifies the content to be inserted. You can put any string you like within the quotes."
      ],
      "metadata": {
        "id": "o0x5CmWoBiy2"
      },
      "execution_count": null,
      "outputs": []
    },
    {
      "cell_type": "markdown",
      "source": [
        "4.Q4. Using any of the Pseudo element selectors, add any random words after and before the given HTML tag\n",
        "Assignment Question\n",
        "| An example should be one HTML button tac\n",
        "| When hovering the color should be changed and the shadow of the button should be added^\n",
        "| Proper padding space should be given^\n",
        "| The cursor style should also be changed to a pointer on hover"
      ],
      "metadata": {
        "id": "hfC55g3EBkLU"
      }
    },
    {
      "cell_type": "code",
      "source": [
        "To achieve the desired button styling with a hover effect, you'll need both a simple HTML button and some CSS.\n",
        "Here's the HTML and CSS:\n",
        "1. HTML (e.g., index.html)\n",
        "<!DOCTYPE html>\n",
        "<html lang=\"en\">\n",
        "<head>\n",
        "    <meta charset=\"UTF-8\">\n",
        "    <meta name=\"viewport\" content=\"width=device-width, initial-scale=1.0\">\n",
        "    <title>Button Styling</title>\n",
        "    <link rel=\"stylesheet\" href=\"style.css\"> </head>\n",
        "<body>\n",
        "\n",
        "    <button class=\"pw-button\">PW Skills</button>\n",
        "\n",
        "</body>\n",
        "</html>\n",
        "\n",
        "2. CSS (e.g., style.css)\n",
        "/* Basic styling for the body to center the button for better visual */\n",
        "body {\n",
        "    display: flex;\n",
        "    justify-content: center;\n",
        "    align-items: center;\n",
        "    min-height: 100vh; /* Make body at least viewport height */\n",
        "    margin: 0;\n",
        "    font-family: Arial, sans-serif;\n",
        "    background-color: #f0f0f0; /* Light background for contrast */\n",
        "}\n",
        "\n",
        "/* Style for the button */\n",
        ".pw-button {\n",
        "    /* Initial colors (matching \"Without hover\" from the image) */\n",
        "    background-color: #4169E1; /* Royal Blue */\n",
        "    color: white; /* White text */\n",
        "\n",
        "    /* Padding space */\n",
        "    padding: 12px 25px; /* Top/bottom 12px, left/right 25px */\n",
        "\n",
        "    /* Border and border-radius */\n",
        "    border: none; /* No border */\n",
        "    border-radius: 5px; /* Slightly rounded corners */\n",
        "\n",
        "    /* Font properties */\n",
        "    font-size: 16px;\n",
        "    font-weight: bold;\n",
        "\n",
        "    /* Smooth transition for hover effects */\n",
        "    transition: background-color 0.3s ease, box-shadow 0.3s ease;\n",
        "}\n",
        "\n",
        "/* Hover effect */\n",
        ".pw-button:hover {\n",
        "    /* Change background color on hover (matching \"On hover\" from the image) */\n",
        "    background-color: #3651B3; /* A slightly darker shade of blue */\n",
        "\n",
        "    /* Add shadow on hover */\n",
        "    box-shadow: 0 4px 8px rgba(0, 0, 0, 0.2); /* Horizontal-offset Vertical-offset Blur-radius Color */\n",
        "\n",
        "    /* Change cursor style to pointer on hover */\n",
        "    cursor: pointer;\n",
        "}\n",
        "\n",
        "Explanation:\n",
        " * HTML: We simply create a <button> tag and give it a class pw-button so we can easily target it with CSS.\n",
        " * .pw-button (Initial State):\n",
        "   * background-color and color: Sets the main colors for the button and its text.\n",
        "   * padding: Provides internal spacing around the \"PW Skills\" text, making the button larger and more clickable.\n",
        "   * border: none;: Removes the default button border.\n",
        "   * border-radius: Gives the button slightly rounded corners.\n",
        "   * transition: This is crucial for a smooth visual effect. It tells the browser to animate the background-color and box-shadow changes over 0.3 seconds when the hover state is entered or exited.\n",
        " * .pw-button:hover (Hover State):\n",
        "   * :hover: This is a pseudo-class that applies styles only when the user's mouse cursor is over the element.\n",
        "   * background-color: Changes the button's background to a different shade of blue.\n",
        "   * box-shadow: Adds a subtle shadow, making the button appear to \"lift\" off the page.\n",
        "   * cursor: pointer;: Changes the mouse cursor to a hand icon, indicating that the element is clickable."
      ],
      "metadata": {
        "id": "PSrZOCZ7Bp2M"
      },
      "execution_count": null,
      "outputs": []
    }
  ]
}